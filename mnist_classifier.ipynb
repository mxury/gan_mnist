{
 "cells": [
  {
   "cell_type": "code",
   "execution_count": 34,
   "metadata": {},
   "outputs": [],
   "source": [
    "from keras.datasets.mnist import load_data\n",
    "import numpy as np\n",
    "from keras.models import Sequential\n",
    "from keras.layers import Dense, Conv2D, LeakyReLU, Dropout, Flatten\n",
    "import matplotlib.pyplot as plt\n",
    "from keras.optimizers import Adam\n",
    "import keras"
   ]
  },
  {
   "cell_type": "code",
   "execution_count": 2,
   "metadata": {},
   "outputs": [
    {
     "name": "stdout",
     "output_type": "stream",
     "text": [
      "Train (60000, 28, 28) (60000,)\n",
      "Test (10000, 28, 28) (10000,)\n"
     ]
    }
   ],
   "source": [
    "(train_X, train_y), (test_X, test_y) = load_data()\n",
    "\n",
    "print('Train', train_X.shape, train_y.shape)\n",
    "print('Test', test_X.shape, test_y.shape)"
   ]
  },
  {
   "cell_type": "code",
   "execution_count": 6,
   "metadata": {},
   "outputs": [
    {
     "data": {
      "text/plain": [
       "<matplotlib.image.AxesImage at 0x7fa4adc65b90>"
      ]
     },
     "execution_count": 6,
     "metadata": {},
     "output_type": "execute_result"
    },
    {
     "data": {
      "image/png": "[encoded data removed]",
      "text/plain": [
       "<Figure size 432x288 with 1 Axes>"
      ]
     },
     "metadata": {
      "needs_background": "light"
     },
     "output_type": "display_data"
    }
   ],
   "source": [
    "plt.imshow(train_X[0], cmap='gray_r')"
   ]
  },
  {
   "cell_type": "code",
   "execution_count": 11,
   "metadata": {},
   "outputs": [],
   "source": [
    "def define_discriminator(in_shape=(28,28,1)):\n",
    "    model = Sequential()\n",
    "#     filters = 64, kernel = (3,3)\n",
    "    model.add(Conv2D(64, (3,3), strides=(2,2), padding='same',\n",
    "                    input_shape=in_shape))\n",
    "    model.add(LeakyReLU(alpha=0.2))\n",
    "    model.add(Dropout(0.4))\n",
    "    model.add(Conv2D(64, (3,3), strides=(2,2), padding='same'))\n",
    "    model.add(LeakyReLU(alpha=0.2))\n",
    "    model.add(Dropout(0.4))\n",
    "    model.add(Flatten())\n",
    "    model.add(Dense(1, activation='sigmoid'))\n",
    "    \n",
    "    opt = Adam(lr=0.0002, beta_1=0.5)\n",
    "    model.compile(optimizer=opt, loss='binary_crossentropy', metrics=['accuracy'])\n",
    "    return model"
   ]
  },
  {
   "cell_type": "code",
   "execution_count": 28,
   "metadata": {},
   "outputs": [],
   "source": [
    "def load_real_samples():\n",
    "    (train_X, train_y), (test_X, test_y) = load_data()\n",
    "    \n",
    "#     X = train_X[:,:,:,np.newaxis]\n",
    "    \n",
    "    test_X = test_X.astype('float32')\n",
    "    test_X = test_X / 255.0\n",
    "    train_X = train_X.astype('float32')\n",
    "    train_X = train_X / 255.0\n",
    "    return train_X, train_y, test_X, test_y"
   ]
  },
  {
   "cell_type": "code",
   "execution_count": 29,
   "metadata": {},
   "outputs": [],
   "source": [
    "def classification_check(model, n_iter, n_samples, train_X, train_y, test_X, test_y):\n",
    "    \n",
    "    for i in range(n_iter):\n",
    "        ix = np.random.randint(0, train_X.shape[0], 5 * n_samples)\n",
    "    \n",
    "        trainX = train_X[ix]\n",
    "        trainy = train_y[ix]\n",
    "        \n",
    "        _, acc = model.train_on_batch(trainX, trainy)\n",
    "        \n",
    "        print('Accuracy ', acc * 100)\n",
    "        \n",
    "    \n",
    "    it = np.random.randint(0, test_X.shape[0], n_samples)\n",
    "    testX = test_X[it]\n",
    "    testy = test_y[it]\n",
    "    "
   ]
  },
  {
   "cell_type": "code",
   "execution_count": 55,
   "metadata": {},
   "outputs": [],
   "source": [
    "def classification_model(in_shape=(28,28), num_classes=10):\n",
    "    \n",
    "    model = Sequential()\n",
    "    model.add(Flatten(input_shape=in_shape))\n",
    "    model.add(Dense(128, activation='relu'))\n",
    "    model.add(Dense(10))\n",
    "    return model\n",
    "\n",
    "def train_classification(train_X, train_y,test_X, test_y):\n",
    "    discriminator_model = classification_model()\n",
    "#     train_y = to_categorical(train_y)\n",
    "    \n",
    "    discriminator_model.compile(optimizer='adam',\n",
    "              loss=keras.losses.SparseCategoricalCrossentropy(from_logits=True),\n",
    "              metrics=['accuracy'])\n",
    "\n",
    "    \n",
    "    \n",
    "#     early_stopping = keras.callbacks.EarlyStopping(patience=10,\n",
    "#                                                    min_delta=0.001,\n",
    "#                                                    restore_best_weights=True,\n",
    "#                                                   )\n",
    "    \n",
    "    discriminator_model.fit(train_X, train_y, \n",
    "                       epochs=10,\n",
    "                       )\n",
    "    test_loss, test_acc = discriminator_model.evaluate(test_X,  test_y, verbose=2)\n",
    "\n",
    "    print('\\nTest accuracy:', test_acc)\n",
    "    return discriminator_model\n",
    "\n"
   ]
  },
  {
   "cell_type": "code",
   "execution_count": 56,
   "metadata": {},
   "outputs": [
    {
     "name": "stdout",
     "output_type": "stream",
     "text": [
      "Epoch 1/10\n",
      "1875/1875 [==============================] - 6s 3ms/step - loss: 2.4510 - accuracy: 0.8595\n",
      "Epoch 2/10\n",
      "1875/1875 [==============================] - 5s 3ms/step - loss: 0.3708 - accuracy: 0.9101\n",
      "Epoch 3/10\n",
      "1875/1875 [==============================] - 5s 3ms/step - loss: 0.2904 - accuracy: 0.9275\n",
      "Epoch 4/10\n",
      "1875/1875 [==============================] - 8s 4ms/step - loss: 0.2577 - accuracy: 0.9367\n",
      "Epoch 5/10\n",
      "1875/1875 [==============================] - 7s 4ms/step - loss: 0.2183 - accuracy: 0.9451\n",
      "Epoch 6/10\n",
      "1875/1875 [==============================] - 7s 4ms/step - loss: 0.2145 - accuracy: 0.9470\n",
      "Epoch 7/10\n",
      "1875/1875 [==============================] - 6s 3ms/step - loss: 0.2016 - accuracy: 0.9511\n",
      "Epoch 8/10\n",
      "1875/1875 [==============================] - 8s 4ms/step - loss: 0.1942 - accuracy: 0.9528\n",
      "Epoch 9/10\n",
      "1875/1875 [==============================] - 9s 5ms/step - loss: 0.1871 - accuracy: 0.9548\n",
      "Epoch 10/10\n",
      "1875/1875 [==============================] - 6s 3ms/step - loss: 0.1831 - accuracy: 0.9559\n",
      "313/313 - 0s - loss: 0.2943 - accuracy: 0.9458 - 429ms/epoch - 1ms/step\n",
      "\n",
      "Test accuracy: 0.9458000063896179\n"
     ]
    }
   ],
   "source": [
    "model = train_classification(train_X,train_y, test_X, test_y)"
   ]
  },
  {
   "cell_type": "code",
   "execution_count": 59,
   "metadata": {},
   "outputs": [],
   "source": [
    "probability_model = Sequential([model, \n",
    "                                keras.layers.Softmax()])\n"
   ]
  },
  {
   "cell_type": "code",
   "execution_count": 60,
   "metadata": {},
   "outputs": [
    {
     "name": "stdout",
     "output_type": "stream",
     "text": [
      "313/313 [==============================] - 0s 1ms/step\n"
     ]
    }
   ],
   "source": [
    "predictions = probability_model.predict(test_X)"
   ]
  },
  {
   "cell_type": "code",
   "execution_count": 63,
   "metadata": {},
   "outputs": [
    {
     "data": {
      "text/plain": [
       "7"
      ]
     },
     "execution_count": 63,
     "metadata": {},
     "output_type": "execute_result"
    }
   ],
   "source": [
    "np.argmax(predictions[0])"
   ]
  },
  {
   "cell_type": "code",
   "execution_count": null,
   "metadata": {},
   "outputs": [],
   "source": [
    "# test_y[0]"
   ]
  }
 ],
 "metadata": {
  "kernelspec": {
   "display_name": "gan_env",
   "language": "python",
   "name": "gan_env"
  },
  "language_info": {
   "codemirror_mode": {
    "name": "ipython",
    "version": 3
   },
   "file_extension": ".py",
   "mimetype": "text/x-python",
   "name": "python",
   "nbconvert_exporter": "python",
   "pygments_lexer": "ipython3",
   "version": "3.7.4"
  }
 },
 "nbformat": 4,
 "nbformat_minor": 2
}
